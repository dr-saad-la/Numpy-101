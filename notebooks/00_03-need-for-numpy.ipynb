{
 "cells": [
  {
   "cell_type": "markdown",
   "id": "d575ea46-013d-4431-aad5-c23a3e0e7c82",
   "metadata": {
    "slideshow": {
     "slide_type": "skip"
    }
   },
   "source": [
    "# Course: NumPy-101\n",
    "\n",
    "**Title**: The Need for Numpy\n",
    "\n",
    "---\n",
    "\n",
    "**Author:** Dr. Saad Laouadi  \n",
    "**Copyright:** Dr. Saad Laouadi  \n",
    "\n",
    "---\n",
    "\n",
    "**License**\n",
    "\n",
    "This material is intended for educational purposes only and may not be used directly in courses, video recordings, or similar without prior consent from the author. When using or referencing this material, proper credit must be attributed to the author.\n",
    "\n",
    "```text\n",
    "#**************************************************************************\n",
    "#* (C) Copyright 2024 by Dr. Saad Laouadi. All Rights Reserved.           *\n",
    "#*                                                                        *\n",
    "#* DISCLAIMER: The author has used their best efforts in preparing        *\n",
    "#* this content. These efforts include development, research,             *\n",
    "#* and testing of the theories and programs to determine their            *\n",
    "#* effectiveness. The author makes no warranty of any kind,               *\n",
    "#* expressed or implied, with regard to these programs or                 *\n",
    "#* to the documentation contained within. The author shall not            *\n",
    "#* be liable in any event for incidental or consequential damages         *\n",
    "#* in connection with, or arising out of, the furnishing,                 *\n",
    "#* performance, or use of these programs.                                 *\n",
    "#*                                                                        *\n",
    "#* This content is intended for tutorials, online articles,               *\n",
    "#* and other educational purposes.                                        *\n",
    "#**************************************************************************\n",
    "```"
   ]
  },
  {
   "cell_type": "markdown",
   "id": "7d4f57a3-63f1-4d79-b271-a4a33b68d8bc",
   "metadata": {},
   "source": [
    "---"
   ]
  },
  {
   "cell_type": "code",
   "execution_count": 1,
   "id": "0b12addd-0f98-4f1b-94da-c83244cce563",
   "metadata": {},
   "outputs": [],
   "source": [
    "# Environment Setup \n",
    "import random\n",
    "import string\n",
    "import time\n",
    "import numpy as np"
   ]
  },
  {
   "cell_type": "markdown",
   "id": "fa59435d",
   "metadata": {
    "slideshow": {
     "slide_type": "slide"
    }
   },
   "source": [
    "# Introduction\n",
    "\n",
    "NumPy is a powerful library for numerical computing in Python, offering an array data structure purpose-built for efficient numerical operations. Compared to traditional Python lists, NumPy arrays are far more memory-efficient, support element-wise operations natively, and are optimized for high performance. This makes NumPy an essential tool for anyone engaged in data analysis, scientific computing, or machine learning."
   ]
  },
  {
   "cell_type": "markdown",
   "id": "93c0c3e0-b461-4d6b-a178-54be51104c07",
   "metadata": {},
   "source": [
    "### Key Features: Memory Efficiency, Performance, and the Ability to Handle Large Datasets\n",
    "\n",
    "NumPy stands out as a powerful tool in the Python ecosystem primarily due to its key features: memory efficiency, performance, and the ability to handle large datasets.\n",
    "\n",
    "#### 1. **Memory Efficiency**\n",
    "   - **Compact Storage**: Unlike Python lists that can hold elements of different data types, NumPy arrays are homogenous. This means that all elements in a NumPy array are of the same data type, allowing NumPy to store them more compactly in memory. This compact storage leads to reduced memory overhead compared to Python lists.\n",
    "   - **Array Buffers**: NumPy arrays utilize contiguous blocks of memory, which allows for efficient data access and manipulation. The contiguous storage of elements enables NumPy to optimize performance by minimizing the need for additional memory allocations.\n",
    "   - **Data Types**: NumPy supports a wide range of data types, from basic types like integers and floats to more complex ones like structured arrays. By choosing the appropriate data type, you can optimize memory usage further, storing large datasets with minimal overhead.\n",
    "\n",
    "#### 2. **Performance**\n",
    "   - **Vectorized Operations**: One of NumPy’s most significant advantages is its support for vectorized operations. Instead of iterating over elements one by one, NumPy allows you to perform operations on entire arrays simultaneously. This leads to significant performance gains, especially when dealing with large datasets.\n",
    "   - **Low-Level Implementation**: NumPy is written in C, a low-level programming language that is known for its speed. The core operations in NumPy are performed using highly optimized C code, making them much faster than equivalent operations on Python lists.\n",
    "   - **Optimized Libraries**: NumPy leverages optimized libraries like BLAS and LAPACK for performing linear algebra operations. These libraries are designed to maximize performance, allowing NumPy to perform complex mathematical operations efficiently.\n",
    "\n",
    "#### 3. **Handling Large Datasets**\n",
    "   - **Scalability**: NumPy is designed to handle large datasets efficiently. Whether you're working with small arrays or massive multidimensional datasets, NumPy can scale to accommodate your needs. This scalability makes it a go-to choice for data scientists and engineers working with big data.\n",
    "   - **Efficient I/O Operations**: NumPy provides efficient functions for reading and writing large datasets to and from disk. This is particularly useful when dealing with datasets that do not fit entirely in memory, as NumPy allows you to load data in chunks, process it, and then save the results.\n",
    "   - **Seamless Integration**: NumPy arrays are the standard for numerical data in the Python ecosystem. They are used as the underlying data structure for many other libraries, such as pandas, SciPy, and TensorFlow. This seamless integration allows for easy manipulation and analysis of large datasets across different tools and libraries.\n",
    "\n",
    "### Advantages of Using Numpy Over Lists\n",
    "\n",
    "NumPy is designed to address these limitations by providing:\n",
    "- **Efficient Array Operations:** NumPy allows you to perform element-wise operations directly on arrays without the need for loops. This makes your code shorter, easier to read, and much faster.\n",
    "- **Vectorized Operations:** NumPy’s operations are vectorized, meaning they are applied to entire arrays at once. This leads to significant performance improvements, especially with large datasets.\n",
    "- **Memory Efficiency**: NumPy arrays consume less memory than Python lists because they are stored in contiguous blocks of memory and have a fixed data type."
   ]
  },
  {
   "cell_type": "markdown",
   "id": "e89a8e5e-497d-477b-aa5c-6942b695c1c8",
   "metadata": {},
   "source": [
    "# Complex Example: Simulation of a Large-Scale Financial Portfolio\n",
    "\n",
    "Let us start with a real example to show the importance of using numpy:"
   ]
  },
  {
   "cell_type": "markdown",
   "id": "9c0c6156-521d-446d-bf28-58be07170697",
   "metadata": {},
   "source": [
    "# Scenario: Portfolio Simulation with Multiple Assets Over Time\n",
    "\n",
    "Imagine you are tasked with simulating the performance of a large financial portfolio consisting of thousands of assets over a period of 10 years. Each asset’s value changes daily based on random market fluctuations, and you need to calculate the portfolio’s daily returns, total value, and risk metrics. This scenario involves complex numerical operations and large datasets, which can quickly expose the limitations of Python lists."
   ]
  },
  {
   "cell_type": "code",
   "execution_count": 2,
   "id": "bfa031d0-6644-427f-9b5a-3df2018a2003",
   "metadata": {},
   "outputs": [
    {
     "name": "stdout",
     "output_type": "stream",
     "text": [
      "Time taken for portfolio simulation using lists: 2.6002 seconds\n",
      "Final Portfolio Value: 3006541.46\n",
      "Average Daily Return: 2071.6406\n"
     ]
    }
   ],
   "source": [
    "# Parameters\n",
    "num_assets = 10_000  # Number of assets in the portfolio\n",
    "num_days = 3_650     # Number of days (10 years)\n",
    "\n",
    "# Initialize the portfolio with random values for each asset\n",
    "portfolio = [[random.uniform(100, 500) for _ in range(num_assets)] for _ in range(num_days)]\n",
    "\n",
    "# Start the timer\n",
    "start_time = time.time()\n",
    "\n",
    "# Simulate daily returns (e.g., 0.1% to 2% daily fluctuation) and calculate portfolio value\n",
    "daily_returns = []\n",
    "for day in range(1, num_days):\n",
    "    daily_return = sum((portfolio[day][i] - portfolio[day - 1][i]) / portfolio[day - 1][i]\n",
    "                       for i in range(num_assets))\n",
    "    daily_returns.append(daily_return)\n",
    "\n",
    "# Calculate total portfolio value over time\n",
    "total_value = [sum(day_values) for day_values in portfolio]\n",
    "\n",
    "# End the timer\n",
    "end_time = time.time()\n",
    "\n",
    "# Calculate the elapsed time\n",
    "elapsed_time = end_time - start_time\n",
    "\n",
    "# Output the result\n",
    "print(f\"Time taken for portfolio simulation using lists: {elapsed_time:.4f} seconds\")\n",
    "print(f\"Final Portfolio Value: {total_value[-1]:.2f}\")\n",
    "print(f\"Average Daily Return: {sum(daily_returns)/len(daily_returns):.4f}\")"
   ]
  },
  {
   "cell_type": "markdown",
   "id": "1831ca98-4fb0-4e54-8506-31dbd8513656",
   "metadata": {},
   "source": [
    "## Limitations of Using Python Lists in This Scenario\n",
    "\n",
    "1.\t**Performance Bottleneck**:\n",
    "\t* The nested loops and list comprehensions slow down the computation. Calculating daily returns and total portfolio value requires iterating over large lists, making the process inefficient.\n",
    "2.\t**Memory Inefficiency**:\n",
    "\t* Each value in a Python list is a separate object, leading to high memory consumption. When dealing with a large number of assets over many days, this quickly becomes a bottleneck.\n",
    "3.\t**Complexity in Code**:\n",
    "\t* The code to perform element-wise operations (e.g., calculating daily returns) is more verbose and harder to manage compared to using specialized data structures like NumPy arrays."
   ]
  },
  {
   "cell_type": "markdown",
   "id": "74f4600b-18d7-44e9-aa65-91e3b83e0533",
   "metadata": {},
   "source": [
    "## The Need for NumPy Arrays\n",
    "To address these limitations, we can use NumPy, which is optimized for numerical operations on large datasets. NumPy arrays are not only faster but also more memory-efficient, and they support vectorized operations that simplify the code.\n",
    "\n",
    "Let us rewrite the previous code in numpy to show the difference:"
   ]
  },
  {
   "cell_type": "code",
   "execution_count": 3,
   "id": "a2f03b13-9be6-4417-83dc-2b4c126e2954",
   "metadata": {},
   "outputs": [
    {
     "name": "stdout",
     "output_type": "stream",
     "text": [
      "Time taken for portfolio simulation using NumPy: 0.0342 seconds\n",
      "Final Portfolio Value: 2985352.81\n",
      "Average Daily Return: 0.2070\n"
     ]
    }
   ],
   "source": [
    "# Parameters\n",
    "num_assets = 10_000  # Number of assets in the portfolio\n",
    "num_days = 3_650     # Number of days (10 years)\n",
    "\n",
    "# Initialize the portfolio with random values for each asset using NumPy arrays\n",
    "portfolio = np.random.uniform(100, 500, size=(num_days, num_assets))\n",
    "\n",
    "# Start the timer\n",
    "start_time = time.time()\n",
    "\n",
    "# Calculate daily returns using vectorized operations\n",
    "daily_returns = (portfolio[1:] - portfolio[:-1]) / portfolio[:-1]\n",
    "\n",
    "# Calculate total portfolio value over time\n",
    "total_value = np.sum(portfolio, axis=1)\n",
    "\n",
    "# End the timer\n",
    "end_time = time.time()\n",
    "\n",
    "# Calculate the elapsed time\n",
    "elapsed_time = end_time - start_time\n",
    "\n",
    "# Output the result\n",
    "print(f\"Time taken for portfolio simulation using NumPy: {elapsed_time:.4f} seconds\")\n",
    "print(f\"Final Portfolio Value: {total_value[-1]:.2f}\")\n",
    "print(f\"Average Daily Return: {np.mean(daily_returns):.4f}\")"
   ]
  },
  {
   "cell_type": "markdown",
   "id": "2413beaa-782a-4a10-97c1-6b87fe905306",
   "metadata": {},
   "source": [
    "## Advantages of Using NumPy in This Scenario\n",
    "\n",
    "1.\t**Significantly Improved Performance**:\n",
    "\t- NumPy’s vectorized operations eliminate the need for explicit loops, resulting in much faster execution. Operations on entire arrays are performed at once, utilizing low-level optimizations.\n",
    "2.\t**Memory Efficiency**:\n",
    "    - NumPy arrays use contiguous memory blocks and are optimized for space, reducing memory overhead compared to Python lists.\n",
    "3.\t**Simplicity and Readability**:\n",
    "\t- The code is more concise and easier to read, with fewer lines needed to perform complex operations. The use of vectorized operations also reduces the risk of errors and makes the code more maintainable."
   ]
  },
  {
   "cell_type": "code",
   "execution_count": null,
   "id": "fe9a001a-4aee-4cbb-9e2d-f08d5098c14a",
   "metadata": {},
   "outputs": [],
   "source": []
  }
 ],
 "metadata": {
  "kernelspec": {
   "display_name": "Numpy-Env Py3.12",
   "language": "python",
   "name": "np-env"
  },
  "language_info": {
   "codemirror_mode": {
    "name": "ipython",
    "version": 3
   },
   "file_extension": ".py",
   "mimetype": "text/x-python",
   "name": "python",
   "nbconvert_exporter": "python",
   "pygments_lexer": "ipython3",
   "version": "3.12.5"
  },
  "latex_envs": {
   "LaTeX_envs_menu_present": true,
   "autoclose": false,
   "autocomplete": true,
   "bibliofile": "biblio.bib",
   "cite_by": "apalike",
   "current_citInitial": 1,
   "eqLabelWithNumbers": true,
   "eqNumInitial": 1,
   "hotkeys": {
    "equation": "Ctrl-E",
    "itemize": "Ctrl-I"
   },
   "labels_anchors": false,
   "latex_user_defs": false,
   "report_style_numbering": false,
   "user_envs_cfg": false
  }
 },
 "nbformat": 4,
 "nbformat_minor": 5
}
