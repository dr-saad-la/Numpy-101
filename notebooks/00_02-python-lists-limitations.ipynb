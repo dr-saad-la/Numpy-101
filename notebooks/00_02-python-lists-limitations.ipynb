{
 "cells": [
  {
   "cell_type": "markdown",
   "id": "ef5adb5c-69be-4e10-99a8-c5a80254629b",
   "metadata": {},
   "source": [
    "## Course: NumPy-101\n",
    "**Title**: List Limitations\n",
    "\n",
    "---\n",
    "\n",
    "**Author:** Dr. Saad Laouadi  \n",
    "**Copyright:** Dr. Saad Laouadi  \n",
    "\n",
    "---\n",
    "\n",
    "## License\n",
    "\n",
    "This material is intended for educational purposes only and may not be used directly in courses, video recordings, or similar without prior consent from the author. When using or referencing this material, proper credit must be attributed to the author.\n",
    "\n",
    "```text\n",
    "#**************************************************************************\n",
    "#* (C) Copyright 2024 by Dr. Saad Laouadi. All Rights Reserved.           *\n",
    "#*                                                                        *\n",
    "#* DISCLAIMER: The author has used their best efforts in preparing        *\n",
    "#* this content. These efforts include development, research,             *\n",
    "#* and testing of the theories and programs to determine their            *\n",
    "#* effectiveness. The author makes no warranty of any kind,               *\n",
    "#* expressed or implied, with regard to these programs or                 *\n",
    "#* to the documentation contained within. The author shall not            *\n",
    "#* be liable in any event for incidental or consequential damages         *\n",
    "#* in connection with, or arising out of, the furnishing,                 *\n",
    "#* performance, or use of these programs.                                 *\n",
    "#*                                                                        *\n",
    "#* This content is intended for tutorials, online articles,               *\n",
    "#* and other educational purposes.                                        *\n",
    "#**************************************************************************\n",
    "```"
   ]
  },
  {
   "cell_type": "markdown",
   "id": "c87918f5-1d3c-4b24-b5a9-661b762ce148",
   "metadata": {},
   "source": [
    "---"
   ]
  },
  {
   "cell_type": "code",
   "execution_count": 1,
   "id": "9392902d-de70-4cc3-9dc4-f8a28299aac6",
   "metadata": {},
   "outputs": [],
   "source": [
    "# Environment Setup \n",
    "import random\n",
    "import string\n",
    "import time\n",
    "import numpy as np"
   ]
  },
  {
   "cell_type": "markdown",
   "id": "a58f8b5a-14b1-4b15-bc09-6d4ec79044b5",
   "metadata": {},
   "source": [
    "## Introduction\n",
    "Python lists are a fundamental and versatile data structure in Python, allowing you to store a collection of items that can be of varying data types. This flexibility makes Python lists powerful tools for many applications, from managing collections of strings to organizing complex objects. However, when it comes to numerical and scientific computations, Python lists exhibit certain limitations that can hinder performance and efficiency.\n",
    "\n",
    "In this tutorial, we’ll explore the capabilities and limitations of Python lists in numerical computing, and then demonstrate how NumPy can address these challenges. Rather than jumping straight into NumPy, we’ll start by solving a problem using only Python lists and then show how NumPy can significantly simplify the process."
   ]
  },
  {
   "cell_type": "markdown",
   "id": "a210f5e9-93fd-42fb-969d-df2e72b378c2",
   "metadata": {},
   "source": [
    "## Python Lists Review\n",
    "1. **Flexibility**:\n",
    "    - Python lists can hold elements of any data type, and the types can be mixed within a single list.\n",
    "\t- Lists are mutable, meaning you can change, add, or remove elements after the list is created.\n",
    "\n",
    "## Examples"
   ]
  },
  {
   "cell_type": "code",
   "execution_count": 2,
   "id": "d4af79f6-768c-4a85-8285-b3472b75d9f2",
   "metadata": {},
   "outputs": [
    {
     "name": "stdout",
     "output_type": "stream",
     "text": [
      "Original list:   [86, 78, 32, 69, 11, 53, 56, 53, 22, 19]\n",
      "Sorted list:     [11, 19, 22, 42, 53, 53, 56, 69, 78, 86, 99]\n",
      "Modified list:   [19, 22, 42, 53, 53, 56, 69, 78, 86, 99]\n",
      "Removed element: 11\n"
     ]
    }
   ],
   "source": [
    "# Random list of integers\n",
    "random.seed(1010)\n",
    "lst = [random.randint(1, 100) for _ in range(10)]\n",
    "print(\"Original list:  \", lst)\n",
    "\n",
    "# Perform some operations on the list\n",
    "lst[2] = 42                       # Change the third element to 42\n",
    "lst.append(99)                    # Add a new element at the end\n",
    "lst.sort()                        # Sort the list in ascending order\n",
    "\n",
    "print(\"Sorted list:    \", lst)\n",
    "removed_element = lst.pop(0)      # Remove and return the first element\n",
    "\n",
    "print(\"Modified list:  \", lst)\n",
    "print(\"Removed element:\", removed_element)"
   ]
  },
  {
   "cell_type": "markdown",
   "id": "64517f58-f3ca-47cf-9952-9b71de70600b",
   "metadata": {},
   "source": [
    "### Mixed List Example\n",
    "Next, let’s create a mixed list where elements can be of different types, such as integers, strings, floats, and even another list."
   ]
  },
  {
   "cell_type": "code",
   "execution_count": 3,
   "id": "44a885e6-3255-4499-a769-e03225b073ba",
   "metadata": {},
   "outputs": [
    {
     "name": "stdout",
     "output_type": "stream",
     "text": [
      "The random string: RNvnA\n",
      "Original mixed list: [52, 'RNvnA', 3.14, [1, 2, 3], 'R', 'N']\n",
      "Modified mixed list: [52, 'Python', 3.14, [10, 2, 3, 4], 'R', 'N', True]\n",
      "Shuffled list: ['Python', 52, 'R', 'N', [10, 2, 3, 4], 3.14, True]\n"
     ]
    }
   ],
   "source": [
    "# Random string of 5 characters\n",
    "random.seed(0)\n",
    "random_string = ''.join(random.choices(string.ascii_letters, k=5))\n",
    "print(\"The random string:\", random_string)\n",
    "\n",
    "# Create a mixed list with different data types\n",
    "mixed_list = [random.randint(1, 100), random_string,  3.14, [1, 2, 3]]\n",
    "mixed_list.extend(list(random_string)[:2])\n",
    "print(\"Original mixed list:\", mixed_list)\n",
    "\n",
    "# Perform some operations on the list\n",
    "mixed_list[1] = \"Python\"         # Change the second element to \"Python\"\n",
    "mixed_list.append(True)          # Add a new element (Boolean) at the end\n",
    "nested_list = mixed_list[3]      # Access the nested list\n",
    "\n",
    "# Perform operations on the nested list\n",
    "nested_list.append(4)\n",
    "nested_list[0] = 10\n",
    "\n",
    "print(\"Modified mixed list:\", mixed_list)\n",
    "\n",
    "# Shuffle a list\n",
    "random.shuffle(mixed_list)\n",
    "print(\"Shuffled list:\", mixed_list)"
   ]
  },
  {
   "cell_type": "markdown",
   "id": "c691de26-057c-472a-8275-fe69f48389ee",
   "metadata": {},
   "source": [
    "## Limitations of Python Lists\n",
    "While lists are versatile, they encounter significant limitations when used for numerical computations, particularly when performing operations on entire datasets.\n",
    "\n",
    "1.\t**Inefficiency**:\n",
    "\t- Python lists are not designed for fast numerical operations. Each element is an object, and operations on these objects require more computational overhead compared to specialized numerical arrays.\n",
    "2. **Memory Usage:**\n",
    "   - Lists in Python are not memory-efficient. Each element in a list is a reference to a Python object, which introduces additional memory overhead.\n",
    "3.\tLack of Built-in Numerical Operations:\n",
    "  - Lists do not support element-wise operations natively. To perform such operations, you must write explicit loops or use list comprehensions, which are less efficient than using a specialized numerical data structure.\n",
    "\n",
    "**Element-Wise Operations**\n",
    "\n",
    "One common task in numerical computing is applying a mathematical operation to each element in a dataset. For example, let’s say you have a list of temperatures in Celsius and you want to convert each one to Fahrenheit. Without NumPy, you would typically do something like this:"
   ]
  },
  {
   "cell_type": "code",
   "execution_count": 4,
   "id": "c4841ebe-fb95-43e3-9cbd-d2b2a0737df0",
   "metadata": {},
   "outputs": [
    {
     "name": "stdout",
     "output_type": "stream",
     "text": [
      "[85, 76, 42, 26, 51, 40, 79]\n",
      "[185.0, 168.8, 107.6, 78.8, 123.8, 104.0, 174.2]\n"
     ]
    }
   ],
   "source": [
    "random.seed(0)\n",
    "celsius_temps = random.choices(range(101), k=7)\n",
    "print(celsius_temps)\n",
    "fahrenheit_temps = []\n",
    "\n",
    "for temp in celsius_temps:\n",
    "    fahrenheit = (temp * 9/5) + 32\n",
    "    fahrenheit_temps.append(fahrenheit)\n",
    "\n",
    "print(fahrenheit_temps)\n",
    "# Output: [32.0, 68.0, 86.0, 212.0]"
   ]
  },
  {
   "cell_type": "markdown",
   "id": "d3a3b5e7-0936-4856-b237-653f5261755c",
   "metadata": {},
   "source": [
    "While this code works, it requires a loop to manually apply the operation to each element. This approach becomes cumbersome when dealing with large datasets or more complex operations."
   ]
  },
  {
   "cell_type": "markdown",
   "id": "2f4d4fb2-64fe-4204-8d7b-61c47b08b9ea",
   "metadata": {},
   "source": [
    "**Performance and Efficiency**\n",
    "\n",
    "Python lists are not optimized for numerical computations. The overhead of Python’s dynamic typing and the lack of native support for vectorized operations (i.e., applying an operation to all elements in one go) can lead to significant performance bottlenecks.\n",
    "\n",
    "Consider the following example where we want to multiply each element in a list by a constant factor:"
   ]
  },
  {
   "cell_type": "code",
   "execution_count": 5,
   "id": "34df7c56-12a2-4d84-b99c-336a76cc5811",
   "metadata": {},
   "outputs": [
    {
     "name": "stdout",
     "output_type": "stream",
     "text": [
      "[10, 20, 30, 40, 50]\n"
     ]
    }
   ],
   "source": [
    "numbers = [1, 2, 3, 4, 5]\n",
    "multiplied_numbers = []\n",
    "\n",
    "for num in numbers:\n",
    "    multiplied_numbers.append(num * 10)\n",
    "\n",
    "print(multiplied_numbers)"
   ]
  },
  {
   "cell_type": "markdown",
   "id": "2e581dc5-f8a3-4667-96ca-1605ca32c558",
   "metadata": {},
   "source": [
    "Again, a loop is needed to apply the multiplication, and this loop is relatively slow for large lists."
   ]
  },
  {
   "cell_type": "markdown",
   "id": "4d04b61c-9267-4241-b57e-e12cbc4365d2",
   "metadata": {},
   "source": [
    "## Solving a Real-World Problem with Python Lists\n",
    "Let’s consider a more practical example: computing the average temperature over a week. We have the daily temperatures stored in two different cities, and we want to compute the average temperature for each day."
   ]
  },
  {
   "cell_type": "code",
   "execution_count": 6,
   "id": "ac862c40-1fad-4ddd-9504-51ae3e4181b3",
   "metadata": {},
   "outputs": [
    {
     "name": "stdout",
     "output_type": "stream",
     "text": [
      "[24.0, 26.0, 2.0, 16.0, 32.0, 31.0, 25.0, 19.0, 30.0, 22.0]\n"
     ]
    }
   ],
   "source": [
    "# Generate random data\n",
    "random.seed(0)\n",
    "city1_temps = [random.randint(0, 38) for _ in range(10)]\n",
    "random.seed(0)\n",
    "city2_temps = [random.randint(0, 32) for _ in range(10)]\n",
    "\n",
    "average_temps = []\n",
    "\n",
    "for i in range(len(city1_temps)):\n",
    "    avg_temp = (city1_temps[i] + city2_temps[i]) / 2\n",
    "    average_temps.append(avg_temp)\n",
    "\n",
    "print(average_temps)\n",
    "# Output: [23.5, 22.5, 23.0, 21.0, 20.0, 24.5, 23.0]"
   ]
  },
  {
   "cell_type": "markdown",
   "id": "41443583-985b-4d73-95f6-018c96e4593b",
   "metadata": {},
   "source": [
    "While this method works, it quickly becomes unwieldy if we want to perform more complex operations, such as scaling the temperatures by a factor, filtering out days with temperatures below a certain threshold, or working with data from more than two cities."
   ]
  },
  {
   "cell_type": "markdown",
   "id": "607114f6-a20c-4580-b8b5-f76ad7837809",
   "metadata": {},
   "source": [
    "## Using NumPy\n",
    "Let’s revisit the temperature conversion example, but this time using NumPy:"
   ]
  },
  {
   "cell_type": "code",
   "execution_count": 7,
   "id": "4761edb5-8a85-4d5b-91a7-cf84f2e988af",
   "metadata": {},
   "outputs": [
    {
     "name": "stdout",
     "output_type": "stream",
     "text": [
      "[75.2 78.8 35.6 60.8 89.6 87.8 77.  66.2 86.  71.6]\n"
     ]
    }
   ],
   "source": [
    "celsius_temps = np.array(city1_temps)\n",
    "fahrenheit_temps = (celsius_temps * 9/5) + 32\n",
    "\n",
    "print(fahrenheit_temps)"
   ]
  },
  {
   "cell_type": "markdown",
   "id": "005c3535-458d-4b1c-b1e0-976280ab0975",
   "metadata": {},
   "source": [
    "## Scenario: Element-wise Operations on Large Data Sets\n",
    "Imagine you have a list of one million floating-point numbers, and you need to perform an element-wise operation, such as multiplying each number by 2. With Python lists, this operation is both inefficient and cumbersome to write.\n",
    "\n",
    "Let us consider the following example:"
   ]
  },
  {
   "cell_type": "code",
   "execution_count": 8,
   "id": "ee754c38-614c-4708-a908-56c7ddfb3533",
   "metadata": {},
   "outputs": [
    {
     "name": "stdout",
     "output_type": "stream",
     "text": [
      "Time taken for element-wise operation on list: 0.0181 seconds\n"
     ]
    }
   ],
   "source": [
    "# Generate a list of one million random floating-point numbers\n",
    "large_list = [random.random() for _ in range(1_000_000)]\n",
    "\n",
    "# Start the timer\n",
    "start_time = time.time()\n",
    "\n",
    "# Perform an element-wise multiplication by 2 using a list comprehension\n",
    "result_list = [x * 2 for x in large_list]\n",
    "\n",
    "# End the timer\n",
    "end_time = time.time()\n",
    "\n",
    "# Calculate the elapsed time\n",
    "elapsed_time = end_time - start_time\n",
    "\n",
    "print(f\"Time taken for element-wise operation on list: {elapsed_time:.4f} seconds\")"
   ]
  },
  {
   "cell_type": "markdown",
   "id": "53398123-7f58-4bdd-93de-72b1f43aa809",
   "metadata": {},
   "source": [
    "While The previous time in seconds might not seem like a lot of time, it becomes significant when dealing with larger datasets or more complex operations. The time will be different on your machine.\n",
    "\n",
    "Let’s rewrite the previous example using NumPy arrays instead of Python lists to show the difference."
   ]
  },
  {
   "cell_type": "code",
   "execution_count": 9,
   "id": "f8724e99-3aa0-4a5b-9bc6-4d6bb4b50807",
   "metadata": {},
   "outputs": [
    {
     "name": "stdout",
     "output_type": "stream",
     "text": [
      "Time taken for element-wise operation on NumPy array: 0.0006 seconds\n"
     ]
    }
   ],
   "source": [
    "# Generate a NumPy array of one million random floating-point numbers\n",
    "large_array = np.random.rand(1_000_000)\n",
    "\n",
    "# Start the timer\n",
    "start_time = time.time()\n",
    "\n",
    "# Perform an element-wise multiplication by 2 using NumPy\n",
    "result_array = large_array * 2\n",
    "\n",
    "# End the timer\n",
    "end_time = time.time()\n",
    "\n",
    "# Calculate the elapsed time\n",
    "elapsed_time = end_time - start_time\n",
    "\n",
    "print(f\"Time taken for element-wise operation on NumPy array: {elapsed_time:.4f} seconds\")"
   ]
  },
  {
   "cell_type": "markdown",
   "id": "76eb7f21-4173-44cf-80a9-936966a0d42d",
   "metadata": {},
   "source": [
    "## Why NumPy is Superior in This Case\n",
    "\n",
    "1. **Performance**:\n",
    "\t- The NumPy array operation is significantly faster than the list operation because NumPy is implemented in C and optimized for numerical computations.\n",
    "2.\t**Memory Efficiency**:\n",
    "    - NumPy arrays use contiguous memory blocks and are more memory-efficient compared to Python lists.\n",
    "3.\t**Ease of Use**:\n",
    "\t- NumPy arrays support element-wise operations out of the box, making the code simpler and more readable."
   ]
  },
  {
   "cell_type": "markdown",
   "id": "791d0882-7f66-4468-b729-fde5b1b2f7d1",
   "metadata": {},
   "source": [
    "## Conclusion\n",
    "While Python lists are versatile and useful for many applications, they fall short when it comes to numerical computing, especially with large datasets. In such cases, using a specialized data structure like NumPy arrays is essential for performance, memory efficiency, and ease of use. NumPy provides the tools necessary for efficient numerical computation, making it an invaluable library for data science, machine learning, and scientific computing."
   ]
  }
 ],
 "metadata": {
  "kernelspec": {
   "display_name": "Python3.12",
   "language": "python",
   "name": "python3"
  },
  "language_info": {
   "codemirror_mode": {
    "name": "ipython",
    "version": 3
   },
   "file_extension": ".py",
   "mimetype": "text/x-python",
   "name": "python",
   "nbconvert_exporter": "python",
   "pygments_lexer": "ipython3",
   "version": "3.12.3"
  }
 },
 "nbformat": 4,
 "nbformat_minor": 5
}
